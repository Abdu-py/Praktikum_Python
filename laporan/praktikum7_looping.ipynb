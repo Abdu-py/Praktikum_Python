{
 "cells": [
  {
   "cell_type": "markdown",
   "id": "75c3688c",
   "metadata": {},
   "source": [
    "# Laporan Praktikum Modul 6 – Perulangan (Looping) dalam Python\n",
    "**Nama:** M. Abdu Mukhlisin Mawardi  \n",
    "**NIM:** 2402038  \n",
    "**Mata Kuliah:** Pemrograman Python\n",
    "\n",
    "---"
   ]
  },
  {
   "cell_type": "markdown",
   "id": "4bee3cdb",
   "metadata": {},
   "source": [
    "## Tujuan\n",
    "1. Memahami konsep perulangan (looping) dalam bahasa pemrograman Python.\n",
    "2. Mampu menggunakan perulangan `for` dan `while` dalam menyelesaikan permasalahan sederhana.\n",
    "3. Melatih kemampuan berpikir logis dalam pembuatan program berulang."
   ]
  },
  {
   "cell_type": "markdown",
   "id": "3b656a2a",
   "metadata": {},
   "source": [
    "## Dasar Teori\n",
    "Perulangan (*looping*) digunakan untuk menjalankan suatu blok perintah secara berulang hingga kondisi tertentu tercapai.\n",
    "Dalam Python, terdapat dua jenis perulangan utama:\n",
    "\n",
    "1. **`for` loop** digunakan untuk mengulang sejumlah elemen (misalnya range atau list).\n",
    "   ```python\n",
    "   for i in range(5):\n",
    "       print(i)\n",
    "   ```\n",
    "   Program di atas akan menampilkan angka 0 sampai 4.\n",
    "\n",
    "2. **`while` loop** digunakan untuk mengulang berdasarkan kondisi logika.\n",
    "   ```python\n",
    "   x = 0\n",
    "   while x < 5:\n",
    "       print(x)\n",
    "       x += 1\n",
    "   ```\n",
    "   Program berhenti ketika kondisi `x < 5` tidak lagi terpenuhi."
   ]
  },
  {
   "cell_type": "markdown",
   "id": "2c6f6894",
   "metadata": {},
   "source": [
    "## Program A – Menampilkan Bilangan 1 sampai 10 dengan For Loop\n",
    "Program ini menampilkan bilangan 1 sampai 10 menggunakan perulangan `for`."
   ]
  },
  {
   "cell_type": "code",
   "execution_count": null,
   "id": "20bbdc24",
   "metadata": {},
   "outputs": [],
   "source": [
    "for i in range(1, 11):\n",
    "    print(i)"
   ]
  },
  {
   "cell_type": "markdown",
   "id": "3b59a8d3",
   "metadata": {},
   "source": [
    "## Program B – Menampilkan Bilangan Ganjil dari 1 sampai 20\n",
    "Program ini menggunakan perulangan `for` dengan kondisi `if` untuk memeriksa bilangan ganjil."
   ]
  },
  {
   "cell_type": "code",
   "execution_count": null,
   "id": "de6a8d32",
   "metadata": {},
   "outputs": [],
   "source": [
    "for i in range(1, 21):\n",
    "    if i % 2 != 0:\n",
    "        print(i)"
   ]
  },
  {
   "cell_type": "markdown",
   "id": "f9153770",
   "metadata": {},
   "source": [
    "## Program C – Menghitung Jumlah Bilangan 1 sampai 100\n",
    "Program ini menjumlahkan semua bilangan dari 1 hingga 100 menggunakan perulangan `for`."
   ]
  },
  {
   "cell_type": "code",
   "execution_count": null,
   "id": "af3d0579",
   "metadata": {},
   "outputs": [],
   "source": [
    "jumlah = 0\n",
    "for i in range(1, 101):\n",
    "    jumlah += i\n",
    "print('Jumlah bilangan 1 sampai 100 adalah:', jumlah)"
   ]
  },
  {
   "cell_type": "markdown",
   "id": "6ef21388",
   "metadata": {},
   "source": [
    "## Program D – Menghitung Faktorial dari Sebuah Bilangan\n",
    "Program ini menghitung faktorial dari bilangan yang dimasukkan pengguna menggunakan `while` loop."
   ]
  },
  {
   "cell_type": "code",
   "execution_count": null,
   "id": "99349d69",
   "metadata": {},
   "outputs": [],
   "source": [
    "n = int(input('Masukkan bilangan: '))\n",
    "hasil = 1\n",
    "i = 1\n",
    "while i <= n:\n",
    "    hasil *= i\n",
    "    i += 1\n",
    "print('Faktorial dari', n, 'adalah', hasil)"
   ]
  },
  {
   "cell_type": "markdown",
   "id": "002039fc",
   "metadata": {},
   "source": [
    "## Kesimpulan\n",
    "1. Struktur perulangan memungkinkan program berjalan berulang kali secara efisien.\n",
    "2. `for` cocok digunakan untuk jumlah perulangan yang sudah diketahui.\n",
    "3. `while` digunakan ketika jumlah perulangan bergantung pada kondisi logika.\n",
    "4. Dengan memahami perulangan, kita dapat menyelesaikan berbagai masalah pemrograman dengan lebih efektif."
   ]
  }
 ],
 "metadata": {},
 "nbformat": 4,
 "nbformat_minor": 5
}
