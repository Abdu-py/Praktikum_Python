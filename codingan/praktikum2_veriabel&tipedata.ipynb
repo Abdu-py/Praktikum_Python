{
 "cells": [
  {
   "cell_type": "markdown",
   "id": "f3642141",
   "metadata": {},
   "source": [
    "# Laporan Praktikum  \n",
    "**Materi: Variabel dan Tipe Data**  \n",
    "```\n",
    "Nama        : M. Abdu Mukhlisin Mawardi\n",
    "Nim         : 2402038\n",
    "Kelas       : TI 3A\n",
    "Mata Kuliah : Praktikum Pemrograman AI\n",
    "```\n",
    "\n",
    "## 1. Pendahuluan  \n",
    "Dalam pemrograman, variabel merupakan tempat untuk menyimpan data yang dapat diolah oleh program. \n",
    "Tipe data digunakan untuk menentukan jenis nilai yang bisa disimpan oleh suatu variabel, misalnya tipe data \n",
    "`int` untuk bilangan bulat, `float` untuk bilangan desimal, `str` untuk teks, `bool` untuk logika, `complex` \n",
    "untuk bilangan kompleks, `list` untuk menyimpan kumpulan data, dan `dict` untuk pasangan key-value.  \n",
    "\n",
    "Python sebagai bahasa pemrograman modern memiliki dukungan tipe data yang beragam, sehingga memudahkan \n",
    "dalam proses pengolahan data.  \n"
   ]
  },
  {
   "cell_type": "markdown",
   "id": "4d56b076",
   "metadata": {},
   "source": [
    "## 2. Tujuan dan Manfaat  \n",
    "- **Tujuan**  \n",
    "  1. Memahami konsep variabel dalam Python.  \n",
    "  2. Mengetahui berbagai tipe data dasar dalam Python.  \n",
    "  3. Mampu menuliskan program sederhana menggunakan variabel dan tipe data.  \n",
    "\n",
    "- **Manfaat**  \n",
    "  1. Memberikan dasar pemahaman untuk praktikum pemrograman lebih lanjut.  \n",
    "  2. Membiasakan penggunaan IDE seperti PyCharm atau Jupyter Notebook.  \n",
    "  3. Menjadi bekal awal dalam mengembangkan logika pemrograman.  \n"
   ]
  },
  {
   "cell_type": "code",
   "execution_count": null,
   "id": "cfb25cb0",
   "metadata": {},
   "outputs": [],
   "source": [
    "# Praktikum Algoritma dan Pemrograman 1 - Variable dan Tipe Data\n",
    "print(\"Praktikum Algoritma dan Pemrograman 1 - Variable dan Tipe Data\")\n",
    "\n",
    "# Boolean\n",
    "x = False\n",
    "print(x)\n",
    "print(type(x))\n",
    "\n",
    "# String\n",
    "s = \"Ini adalah tulisan berupa String\"\n",
    "print(s)\n",
    "\n",
    "# Integer\n",
    "a = 100\n",
    "print(a)\n",
    "\n",
    "# Float\n",
    "b = 0.001\n",
    "print(b)\n",
    "\n",
    "# Bilangan heksadesimal ke desimal\n",
    "heksa = 0x01\n",
    "print(\"bilangan desimal dari 0x01 adalah\", heksa)\n",
    "\n",
    "# Integer lain\n",
    "c = 10\n",
    "print(c)\n",
    "\n",
    "# Complex\n",
    "z = complex(2, 6)\n",
    "print(type(z))\n",
    "print(z)\n",
    "\n",
    "# Complex lain\n",
    "y = 2 + 6j\n",
    "print(type(y))\n",
    "\n",
    "# List angka\n",
    "angka = [96, 97, 98, 99, 100]\n",
    "print(angka)\n",
    "\n",
    "# List string\n",
    "teks = [\"seratus\", \"dua ratus\", \"tiga ratus\"]\n",
    "print(teks)\n",
    "\n",
    "# Dictionary\n",
    "data = {\"nama\": \"M.Abdu Mukhlisin Mawardi\", \"umur\": 18}\n",
    "print(data)\n",
    "\n",
    "# String dengan tanda kutip tunggal di dalamnya\n",
    "str_kutip = \"This string contains a single quote (') character.\"\n",
    "print(str_kutip)\n"
   ]
  },
  {
   "cell_type": "markdown",
   "id": "2563bde2",
   "metadata": {
    "jp-MarkdownHeadingCollapsed": true
   },
   "source": [
    "## 4. Analisis Program  \n",
    "1. **Tipe Data Boolean**: Variabel `x = False` menunjukkan tipe data logika (`bool`). Output: `False` dan `<class 'bool'>`.  \n",
    "2. **Tipe Data String**: Variabel `s` menyimpan teks `\"Ini adalah tulisan berupa String\"`.  \n",
    "3. **Tipe Data Integer**: Variabel `a = 100` merupakan bilangan bulat.  \n",
    "4. **Tipe Data Float**: Variabel `b = 0.001` menunjukkan bilangan pecahan/desimal.  \n",
    "5. **Bilangan Heksadesimal**: `0x01` direpresentasikan dalam desimal sebagai `1`.  \n",
    "6. **Tipe Data Complex**: Variabel `z = complex(2,6)` menghasilkan `(2+6j)` dengan tipe `<class 'complex'>`.  \n",
    "7. **List**: `angka` berisi daftar bilangan `[96, 97, 98, 99, 100]`, sedangkan `teks` berisi daftar string `['seratus', 'dua ratus', 'tiga ratus']`.  \n",
    "8. **Dictionary**: `data` berisi pasangan key-value `{'nama': 'Ani', 'umur': 19}`.  \n",
    "9. **String dengan Kutip Tunggal**: String `\"This string contains a single quote (') character.\"` menunjukkan cara menuliskan tanda kutip di dalam string.  \n",
    "\n",
    "Hasil program sesuai dengan teori variabel dan tipe data Python.  \n"
   ]
  },
  {
   "cell_type": "markdown",
   "id": "93833ee7",
   "metadata": {},
   "source": [
    "## 5. Referensi  \n",
    "1. Python Software Foundation. *Python Documentation*. https://docs.python.org/3/  \n",
    "2. Lutz, M. (2013). *Learning Python, 5th Edition*. O'Reilly Media.  \n",
    "3. Tutorialspoint. *Python - Data Types*. https://www.tutorialspoint.com/python/python_data_types.htm  \n"
   ]
  }
 ],
 "metadata": {
  "kernelspec": {
   "display_name": "Python 3 (ipykernel)",
   "language": "python",
   "name": "python3"
  },
  "language_info": {
   "codemirror_mode": {
    "name": "ipython",
    "version": 3
   },
   "file_extension": ".py",
   "mimetype": "text/x-python",
   "name": "python",
   "nbconvert_exporter": "python",
   "pygments_lexer": "ipython3",
   "version": "3.10.7"
  }
 },
 "nbformat": 4,
 "nbformat_minor": 5
}
