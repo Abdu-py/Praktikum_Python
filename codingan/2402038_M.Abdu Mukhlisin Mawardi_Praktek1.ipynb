{
 "cells": [
  {
   "cell_type": "markdown",
   "id": "5c737406",
   "metadata": {},
   "source": [
    "\n",
    "# Laporan Praktikum Python\n",
    "```\n",
    "Nama        : M. Abdu Mukhlisin Mawardi\n",
    "Nim         : 2402038\n",
    "Kelas       : TI 3A\n",
    "Mata Kuliah : Praktikum Pemrograman AI\n",
    "```\n",
    "\n",
    "\n",
    "## Pendahuluan\n",
    "Praktikum ini bertujuan untuk mengenalkan fungsi `print()` pada Python \n",
    "sebagai salah satu perintah dasar untuk menampilkan teks ke layar. \n",
    "Selain itu, praktikum juga melatih mahasiswa untuk memahami, menganalisis, \n",
    "serta memperbaiki \n",
    "kesalahan (error) dalam program Python.\n"
   ]
  },
  {
   "cell_type": "markdown",
   "id": "85c4b972",
   "metadata": {},
   "source": [
    "\n",
    "## Tujuan dan Manfaat\n",
    "\n",
    "**Tujuan:**\n",
    "1. Mampu menuliskan program Python sederhana menggunakan fungsi `print()`.\n",
    "2. Mampu memberikan komentar pada kode program.\n",
    "3. Mampu menganalisis serta memperbaiki error pada script yang salah.\n",
    "\n",
    "**Manfaat:**\n",
    "- Mahasiswa terbiasa menuliskan kode program Python dengan baik dan rapi.\n",
    "- Mahasiswa memahami cara kerja fungsi `print()`.\n",
    "- Mahasiswa dapat belajar debugging (memperbaiki kesalahan kode).\n"
   ]
  },
  {
   "cell_type": "code",
   "execution_count": null,
   "id": "23726053-b74e-467e-8531-694fed037d1e",
   "metadata": {},
   "outputs": [],
   "source": [
    "# Program Biodata dengan fungsi print()\n",
    "\n",
    "print(\"Praktikum Pemrograman AI 1\")              # Menampilkan judul praktikum\n",
    "print(\"Nama    : M. Abdu Mukhlisin Mawardi\")     # Menampilkan nama\n",
    "print(\"NIM     : 2402038\")                       # Menampilkan NIM\n",
    "print(\"Angkatan: 2024\")                          # Menampilkan angkatan\n",
    "print(\"Jurusan : Teknik Informatika\")            # Menampilkan jurusan\n",
    "print(\"Fakultas: Ilmu Komputer\")                 # Menampilkan fakultas\n",
    "print(\"Politeknik Purbaya\")                      # Menampilkan universitas\n"
   ]
  },
  {
   "cell_type": "markdown",
   "id": "1d471af0",
   "metadata": {},
   "source": [
    "\n",
    "## Analisis Program\n",
    "- Setiap baris menggunakan fungsi `print()` untuk menampilkan teks.  \n",
    "- Komentar ditambahkan dengan tanda pagar `#` agar lebih mudah dipahami.  \n",
    "- Output program sesuai dengan identitas mahasiswa.  \n",
    "\n",
    "**Output yang muncul:**\n",
    "```\n",
    "Praktikum Pemrograman AI 1\n",
    "Nama    : M. Abdu Mukhlisin Mawardi\n",
    "NIM     : 2402038\n",
    "Angkatan: 2024\n",
    "Jurusan : Teknik Informatika\n",
    "Fakultas: Ilmu Komputer\n",
    "Politeknik Purbaya\n",
    "```\n"
   ]
  },
  {
   "cell_type": "code",
   "execution_count": null,
   "id": "55b2e376",
   "metadata": {},
   "outputs": [],
   "source": [
    "\n",
    "# Program yang diberikan (ada error) -> diperbaiki\n",
    "\n",
    "print(\"Ini Budi\")  # mencetak penjelasan Budi\n",
    "\n",
    "# Perbaikan: tanda kutip harus berpasangan\n",
    "print('Budi bersekolah di SDN 1 MariJoa')  # sekolah Budi\n",
    "\n",
    "# Perbaikan: fungsi harus 'print', bukan 'prnt'\n",
    "print(\"Cita - cita ingin menjadi seorang Pilot\")  # cita-cita Budi\n"
   ]
  },
  {
   "cell_type": "markdown",
   "id": "189b6529",
   "metadata": {},
   "source": [
    "\n",
    "## Analisis Program Error & Perbaikan\n",
    "\n",
    "**Script Asli:**\n",
    "```python\n",
    "print(\"Ini Budi\") #mencetak penjelasan Budi\n",
    "print('Budi bersekolah di SDN 1 MariJoa) #sekolah Budi\n",
    "prnt(\"Cita - cita ingin menjadi seorang Pilot\") #cita-cita budi\n",
    "```\n",
    "\n",
    "**Error yang terjadi:**\n",
    "1. Pada baris kedua → tanda kutip tidak lengkap (dibuka `'` tapi tidak ditutup).\n",
    "2. Pada baris ketiga → salah ketik fungsi `print` menjadi `prnt`.\n",
    "\n",
    "**Perbaikan:**\n",
    "- Tambahkan tanda kutip yang hilang.\n",
    "- Perbaiki nama fungsi `prnt` menjadi `print`.\n",
    "\n",
    "**Output setelah diperbaiki:**\n",
    "```\n",
    "Ini Budi\n",
    "Budi bersekolah di SDN 1 MariJoa\n",
    "Cita - cita ingin menjadi seorang Pilot\n",
    "```\n"
   ]
  },
  {
   "cell_type": "markdown",
   "id": "fe0b9944",
   "metadata": {},
   "source": [
    "\n",
    "## Kesimpulan\n",
    "1. Fungsi `print()` digunakan untuk menampilkan teks ke layar.\n",
    "2. Komentar dalam Python ditulis menggunakan tanda `#`.\n",
    "3. Kesalahan umum dalam penulisan program adalah kurangnya tanda kutip \n",
    "   atau salah ketik fungsi.\n",
    "4. Dengan memahami cara memperbaiki error, mahasiswa dapat terbiasa \n",
    "   melakukan debugging program Python.\n"
   ]
  },
  {
   "cell_type": "markdown",
   "id": "c35d6f5a",
   "metadata": {},
   "source": [
    "\n",
    "## Referensi\n",
    "1. Python Software Foundation. *Python Documentation*. https://docs.python.org/3/\n",
    "2. Jupyter Project. *Project Jupyter*. https://jupyter.org\n",
    "3. Materi Praktikum Algoritma dan Pemrograman 1, Universitas Sriwijaya.\n"
   ]
  }
 ],
 "metadata": {
  "kernelspec": {
   "display_name": "Python 3 (ipykernel)",
   "language": "python",
   "name": "python3"
  },
  "language_info": {
   "codemirror_mode": {
    "name": "ipython",
    "version": 3
   },
   "file_extension": ".py",
   "mimetype": "text/x-python",
   "name": "python",
   "nbconvert_exporter": "python",
   "pygments_lexer": "ipython3",
   "version": "3.10.7"
  }
 },
 "nbformat": 4,
 "nbformat_minor": 5
}
