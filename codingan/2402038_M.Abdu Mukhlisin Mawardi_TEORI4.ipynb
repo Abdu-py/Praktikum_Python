{
 "cells": [
  {
   "cell_type": "markdown",
   "id": "7ccc61d3",
   "metadata": {},
   "source": [
    "# 🧾 LAPORAN PRAKTIKUM PYTHON\n",
    "### *Materi: Operator Aritmatika dan Bitwise*\n",
    "### NAMA : M. ABDU MUKHLISIN MAWARDI\n",
    "### NIM  : 2402038\n"
   ]
  },
  {
   "cell_type": "markdown",
   "id": "4435b39f",
   "metadata": {},
   "source": [
    "## 🟢 Pendahuluan\n",
    "Operator dalam Python digunakan untuk melakukan berbagai operasi pada data, seperti penjumlahan, pengurangan, perkalian, pembagian, serta operasi logika dan bit. Dalam praktikum ini, kita akan mempelajari cara penggunaan operator aritmatika dan operator bitwise pada bahasa pemrograman Python. Kita juga akan menerapkan operator-operator tersebut dalam perhitungan sederhana dan menghitung luas berbagai bangun datar."
   ]
  },
  {
   "cell_type": "markdown",
   "id": "0f6d8693",
   "metadata": {},
   "source": [
    "## 🟢 Tujuan dan Manfaat\n",
    "1. Memahami fungsi dan penggunaan berbagai operator dalam Python.\n",
    "2. Dapat mengimplementasikan operator aritmatika untuk menyelesaikan perhitungan matematis.\n",
    "3. Dapat menggunakan operator bitwise untuk manipulasi nilai biner.\n",
    "4. Mengetahui cara menghitung luas bangun datar menggunakan Python.\n",
    "5. Melatih logika pemrograman dan keterampilan dasar Python."
   ]
  },
  {
   "cell_type": "markdown",
   "id": "b0d25931",
   "metadata": {},
   "source": [
    "## 🟢 Program\n",
    "### 🔹 Sub 1–7: Operator Aritmatika Dasar"
   ]
  },
  {
   "cell_type": "code",
   "execution_count": null,
   "id": "2f8b6c52",
   "metadata": {},
   "outputs": [],
   "source": [
    "# Penjumlahan\n",
    "print(13 + 2)\n",
    "mangga = 7\n",
    "pisang = 9\n",
    "buah = mangga + pisang\n",
    "print(buah)\n",
    "\n",
    "# Pengurangan\n",
    "hutang = 10000\n",
    "bayar = 5000\n",
    "sisaHutang = hutang - bayar\n",
    "print('Sisa hutang Anda adalah ', sisaHutang)\n",
    "\n",
    "# Perkalian\n",
    "panjang = 15\n",
    "lebar = 8\n",
    "luas = panjang * lebar\n",
    "print(luas)\n",
    "\n",
    "# Pembagian\n",
    "kue = 16\n",
    "anak = 4\n",
    "kuePerAnak = kue / anak\n",
    "print('Setiap anak akan mendapatkan bagian kue sebanyak ', kuePerAnak)\n",
    "\n",
    "# Sisa Bagi / Modulus\n",
    "bilangan1 = 14\n",
    "bilangan2 = 5\n",
    "hasil = bilangan1 % bilangan2\n",
    "print('Sisa bagi dari bilangan ', bilangan1, ' dan ', bilangan2, ' adalah ', hasil)\n",
    "\n",
    "# Pangkat\n",
    "bilangan3 = 8\n",
    "bilangan4 = 2\n",
    "hasilPangkat = bilangan3 ** bilangan4\n",
    "print(hasilPangkat)\n",
    "\n",
    "# Pembagian Bulat\n",
    "print(10 // 3)\n",
    "# 10 dibagi 3 = 3.3333, dibulatkan menghasilkan 3"
   ]
  },
  {
   "cell_type": "markdown",
   "id": "3a7989df",
   "metadata": {},
   "source": [
    "### 🔹 Sub 8: Program Perhitungan Sederhana"
   ]
  },
  {
   "cell_type": "code",
   "execution_count": null,
   "id": "9cd2e48a",
   "metadata": {},
   "outputs": [],
   "source": [
    "BilanganPertama = 15\n",
    "BilanganKedua = 8\n",
    "BilanganKetiga = 100\n",
    "\n",
    "RumusPengjumlahan = BilanganPertama + BilanganKedua + BilanganKetiga\n",
    "RumusPengurangan = BilanganPertama - BilanganKedua - BilanganKetiga\n",
    "RumusPerkalian = BilanganPertama * BilanganKedua * BilanganKetiga\n",
    "\n",
    "print('Pengjumlahan = ', BilanganPertama, '+', BilanganKedua, '+', BilanganKetiga, '=', RumusPengjumlahan)\n",
    "print('Pengurangan = ', BilanganPertama, '-', BilanganKedua, '-', BilanganKetiga, '=', RumusPengurangan)\n",
    "print('Perkalian   = ', BilanganPertama, 'x', BilanganKedua, 'x', BilanganKetiga, '=', RumusPerkalian)"
   ]
  },
  {
   "cell_type": "markdown",
   "id": "77a29fdc",
   "metadata": {},
   "source": [
    "### 🔹 Sub 9: Program Menghitung Luas Bangun Datar"
   ]
  },
  {
   "cell_type": "code",
   "execution_count": null,
   "id": "853d3f4f",
   "metadata": {},
   "outputs": [],
   "source": [
    "# 1. Luas Persegi\n",
    "panjang_sisi = 20\n",
    "luas_persegi = panjang_sisi * panjang_sisi\n",
    "\n",
    "# 2. Luas Persegi Panjang\n",
    "panjang_pp = 50\n",
    "lebar_pp = 25.5\n",
    "luas_pp = panjang_pp * lebar_pp\n",
    "\n",
    "# 3. Luas Segitiga\n",
    "alas_segitiga = 40\n",
    "tinggi_segitiga = 60\n",
    "luas_segitiga = 0.5 * alas_segitiga * tinggi_segitiga\n",
    "\n",
    "# 4. Luas Lingkaran\n",
    "phi = 3.14\n",
    "jari_jari = 14\n",
    "luas_lingkaran = phi * jari_jari * jari_jari\n",
    "\n",
    "# 5. Luas Jajaran Genjang\n",
    "alas_jg = 30\n",
    "tinggi_jg = 25\n",
    "luas_jg = alas_jg * tinggi_jg\n",
    "\n",
    "# 6. Luas Trapesium\n",
    "alas1_trapesium = 40\n",
    "alas2_trapesium = 25\n",
    "tinggi_trapesium = 20\n",
    "luas_trapesium = 0.5 * (alas1_trapesium + alas2_trapesium) * tinggi_trapesium\n",
    "\n",
    "print('Luas Persegi =', luas_persegi)\n",
    "print('Luas Persegi Panjang =', luas_pp)\n",
    "print('Luas Segitiga =', luas_segitiga)\n",
    "print('Luas Lingkaran =', luas_lingkaran)\n",
    "print('Luas Jajaran Genjang =', luas_jg)\n",
    "print('Luas Trapesium =', luas_trapesium)"
   ]
  },
  {
   "cell_type": "markdown",
   "id": "0b10e2ec",
   "metadata": {},
   "source": [
    "### 🔹 Sub 10: Program Operator Bitwise"
   ]
  },
  {
   "cell_type": "code",
   "execution_count": null,
   "id": "afce581a",
   "metadata": {},
   "outputs": [],
   "source": [
    "a = 10  # 1010 dalam biner\n",
    "b = 4   # 0100 dalam biner\n",
    "\n",
    "print('a & b =', a & b)\n",
    "print('a | b =', a | b)\n",
    "print('a ^ b =', a ^ b)\n",
    "print('~a =', ~a)\n",
    "print('a << 2 =', a << 2)\n",
    "print('a >> 2 =', a >> 2)"
   ]
  },
  {
   "cell_type": "markdown",
   "id": "d9e54ccb",
   "metadata": {},
   "source": [
    "## 🟢 Analisis Program\n",
    "1. Operator aritmatika digunakan untuk perhitungan dasar seperti penjumlahan (+), pengurangan (-), perkalian (*), pembagian (/), modulus (%), pangkat (**), dan pembagian bulat (//).\n",
    "2. Program perhitungan sederhana menghitung hasil dari tiga bilangan dan menampilkan hasil aritmatikanya.\n",
    "3. Program luas bangun datar menghitung nilai area dari berbagai bentuk geometri berdasarkan rumus masing-masing.\n",
    "4. Operator bitwise digunakan untuk operasi logika biner seperti AND (&), OR (|), XOR (^), NOT (~), serta pergeseran bit (<< dan >>).\n",
    "5. Semua hasil program telah sesuai dengan logika dan teori yang berlaku."
   ]
  },
  {
   "cell_type": "markdown",
   "id": "c09f7f9d",
   "metadata": {},
   "source": [
    "## 🟢 Referensi\n",
    "1. Python Software Foundation. *Python 3 Documentation*. https://docs.python.org/3/\n",
    "2. W3Schools – *Python Operators*. https://www.w3schools.com/python/python_operators.asp\n",
    "3. Programiz – *Python Bitwise Operators*. https://www.programiz.com/python-programming/operators"
   ]
  }
 ],
 "metadata": {
  "kernelspec": {
   "display_name": "Python 3 (ipykernel)",
   "language": "python",
   "name": "python3"
  },
  "language_info": {
   "codemirror_mode": {
    "name": "ipython",
    "version": 3
   },
   "file_extension": ".py",
   "mimetype": "text/x-python",
   "name": "python",
   "nbconvert_exporter": "python",
   "pygments_lexer": "ipython3",
   "version": "3.10.7"
  }
 },
 "nbformat": 4,
 "nbformat_minor": 5
}
