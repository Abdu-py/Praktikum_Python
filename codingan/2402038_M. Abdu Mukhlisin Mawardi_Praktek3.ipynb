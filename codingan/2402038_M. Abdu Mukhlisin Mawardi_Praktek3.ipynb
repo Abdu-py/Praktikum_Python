{
 "cells": [
  {
   "cell_type": "markdown",
   "id": "bc4d9273",
   "metadata": {},
   "source": [
    "\n",
    "# Laporan: Pernyataan Berkondisi Python (if, if else, elif)\n",
    "**Nama:** M. Abdu Mukhlisin Mawardi  \n",
    "**NIM:** 2402038\n",
    "    "
   ]
  },
  {
   "cell_type": "markdown",
   "id": "66adb8cb",
   "metadata": {},
   "source": [
    "\n",
    "## 1. Pendahuluan\n",
    "\n",
    "Pernyataan berkondisi (conditional statement) digunakan untuk membuat keputusan dalam program. \n",
    "Dengan kondisi, program dapat menjalankan perintah tertentu hanya jika suatu syarat terpenuhi. \n",
    "Dalam Python, terdapat tiga bentuk utama:\n",
    "- `if`\n",
    "- `if else`\n",
    "- `if elif`\n",
    "    "
   ]
  },
  {
   "cell_type": "markdown",
   "id": "9bf4821c",
   "metadata": {},
   "source": [
    "\n",
    "## 2. Tujuan dan Manfaat\n",
    "\n",
    "**Tujuan:**\n",
    "1. Memahami konsep dasar percabangan dalam Python.\n",
    "2. Mengetahui cara kerja dan penggunaan `if`, `else`, dan `elif`.\n",
    "\n",
    "**Manfaat:**\n",
    "1. Dapat membuat program yang lebih dinamis dan interaktif.\n",
    "2. Mampu mengatur alur logika program sesuai kondisi tertentu.\n",
    "    "
   ]
  },
  {
   "cell_type": "markdown",
   "id": "e212edec",
   "metadata": {},
   "source": [
    "## 3. Program dan Penjelasan"
   ]
  },
  {
   "cell_type": "markdown",
   "id": "ee5d4bd3",
   "metadata": {},
   "source": [
    "### a. Kondisi `if`"
   ]
  },
  {
   "cell_type": "code",
   "execution_count": null,
   "id": "8661403c",
   "metadata": {},
   "outputs": [],
   "source": [
    "\n",
    "nilai = 9\n",
    "\n",
    "if nilai > 7:\n",
    "    print(\"Sembilan Lebih Besar Dari Angka Tujuh\")\n",
    "\n",
    "if nilai > 10:\n",
    "    print(\"Sembilan Lebih Besar Dari Angka Sepuluh\")\n",
    "    "
   ]
  },
  {
   "cell_type": "markdown",
   "id": "8e5339dc",
   "metadata": {},
   "source": [
    "\n",
    "**Penjelasan:**\n",
    "- Program pertama akan menampilkan hasil karena `nilai > 7` adalah **True**.  \n",
    "- Program kedua tidak menampilkan apa pun karena `nilai > 10` adalah **False**.\n",
    "    "
   ]
  },
  {
   "cell_type": "markdown",
   "id": "9d91eb8f",
   "metadata": {},
   "source": [
    "### b. Kondisi `if else`"
   ]
  },
  {
   "cell_type": "code",
   "execution_count": null,
   "id": "da4d98f8",
   "metadata": {},
   "outputs": [],
   "source": [
    "\n",
    "nilai = 3\n",
    "\n",
    "if nilai > 7:\n",
    "    print(\"Selamat Anda Lulus\")\n",
    "else:\n",
    "    print(\"Maaf Anda Tidak Lulus\")\n",
    "    "
   ]
  },
  {
   "cell_type": "markdown",
   "id": "d2287ad0",
   "metadata": {},
   "source": [
    "\n",
    "**Penjelasan:**\n",
    "- Jika `nilai` lebih besar dari 7 maka mencetak “Selamat Anda Lulus”.\n",
    "- Karena `nilai = 3`, maka hasilnya “Maaf Anda Tidak Lulus”.\n",
    "    "
   ]
  },
  {
   "cell_type": "markdown",
   "id": "5017a173",
   "metadata": {},
   "source": [
    "### c. Kondisi `if elif`"
   ]
  },
  {
   "cell_type": "code",
   "execution_count": null,
   "id": "8d1bcc60",
   "metadata": {},
   "outputs": [],
   "source": [
    "\n",
    "hari_ini = \"Minggu\"\n",
    "\n",
    "if hari_ini == \"Senin\":\n",
    "    print(\"Saya akan kuliah\")\n",
    "elif hari_ini == \"Selasa\":\n",
    "    print(\"Saya akan kuliah\")\n",
    "elif hari_ini == \"Rabu\":\n",
    "    print(\"Saya akan kuliah\")\n",
    "elif hari_ini == \"Kamis\":\n",
    "    print(\"Saya akan kuliah\")\n",
    "elif hari_ini == \"Jumat\":\n",
    "    print(\"Saya akan kuliah\")\n",
    "elif hari_ini == \"Sabtu\":\n",
    "    print(\"Saya akan kuliah\")\n",
    "elif hari_ini == \"Minggu\":\n",
    "    print(\"Saya akan libur\")\n",
    "    "
   ]
  },
  {
   "cell_type": "markdown",
   "id": "8b24e97b",
   "metadata": {},
   "source": [
    "\n",
    "**Penjelasan:**\n",
    "- Setiap kondisi `elif` memeriksa nilai variabel `hari_ini`.\n",
    "- Karena `hari_ini` adalah “Minggu”, maka hasilnya “Saya akan libur”.\n",
    "    "
   ]
  },
  {
   "cell_type": "markdown",
   "id": "89ff1c70",
   "metadata": {},
   "source": [
    "\n",
    "## 4. Analisis Program\n",
    "\n",
    "- Statement `if` hanya dijalankan jika kondisi bernilai True.\n",
    "- Statement `if else` digunakan untuk dua pilihan kondisi.\n",
    "- Statement `if elif` digunakan untuk lebih dari dua kondisi.\n",
    "- Struktur kondisi membantu menentukan jalannya program sesuai logika yang diinginkan.\n",
    "    "
   ]
  },
  {
   "cell_type": "markdown",
   "id": "669ebce9",
   "metadata": {},
   "source": [
    "\n",
    "## 5. Kesimpulan\n",
    "\n",
    "Pernyataan berkondisi sangat penting dalam pemrograman karena menentukan alur keputusan.\n",
    "Dengan `if`, `else`, dan `elif`, program dapat beradaptasi dengan berbagai situasi logika dan membuat hasil yang sesuai.\n",
    "    "
   ]
  }
 ],
 "metadata": {
  "kernelspec": {
   "display_name": "Python 3 (ipykernel)",
   "language": "python",
   "name": "python3"
  },
  "language_info": {
   "codemirror_mode": {
    "name": "ipython",
    "version": 3
   },
   "file_extension": ".py",
   "mimetype": "text/x-python",
   "name": "python",
   "nbconvert_exporter": "python",
   "pygments_lexer": "ipython3",
   "version": "3.10.7"
  }
 },
 "nbformat": 4,
 "nbformat_minor": 5
}
