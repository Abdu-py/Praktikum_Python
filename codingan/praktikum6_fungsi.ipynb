{
 "cells": [
  {
   "cell_type": "markdown",
   "metadata": {},
   "source": [
    "# Laporan Praktikum Python - Fungsi (Gambar 5.1–5.7)\n",
    "\n",
    "**Nama:** M. Abdu Mukhlisin Mawardi  \n",
    "**NIM:** 2402038  \n",
    "**Mata Kuliah:** Pemrograman AI\n",
    "**Dosen Pengampu:** Heny Indriani  "
   ]
  },
  {
   "cell_type": "markdown",
   "metadata": {},
   "source": [
    "## 1. Pendahuluan\n",
    "\n",
    "Pada pertemuan ini, kita membahas tentang **fungsi (function)** pada bahasa Python. Fungsi adalah blok kode terpisah yang dirancang untuk melakukan tugas tertentu. Dengan fungsi, program menjadi lebih efisien, modular, dan mudah dipahami. Python menyediakan dua jenis fungsi yaitu fungsi bawaan (standard library function) dan fungsi buatan pengguna (user defined function)."
   ]
  },
  {
   "cell_type": "markdown",
   "metadata": {},
   "source": [
    "## 2. Tujuan dan Manfaat\n",
    "\n",
    "**Tujuan:**\n",
    "1. Memahami konsep dasar fungsi dalam Python.\n",
    "2. Mengetahui cara membuat fungsi dengan atau tanpa parameter.\n",
    "3. Memahami penggunaan variabel lokal dan global.\n",
    "\n",
    "**Manfaat:**\n",
    "1. Dapat menulis kode yang lebih terstruktur dan efisien.\n",
    "2. Memudahkan proses debugging dan pengembangan program."
   ]
  },
  {
   "cell_type": "markdown",
   "metadata": {},
   "source": [
    "## 3. Program dan Analisis\n",
    "\n",
    "### 🧩 Gambar 5.1 – Fungsi Tanpa Parameter"
   ]
  },
  {
   "cell_type": "code",
   "execution_count": 3,
   "metadata": {},
   "outputs": [
    {
     "name": "stdout",
     "output_type": "stream",
     "text": [
      "Hallo, Selamat Belajar Python\n"
     ]
    }
   ],
   "source": [
    "def kalimat():\n",
    "    \"\"\"Menampilkan kalimat Hallo, Selamat Belajar Python\"\"\"\n",
    "    print(\"Hallo, Selamat Belajar Python\")\n",
    "\n",
    "kalimat()"
   ]
  },
  {
   "cell_type": "markdown",
   "metadata": {},
   "source": [
    "**Analisis:** Fungsi `kalimat()` tidak memerlukan parameter. Saat dipanggil, fungsi akan menampilkan teks sapaan. Ini contoh fungsi sederhana tanpa nilai kembali."
   ]
  },
  {
   "cell_type": "markdown",
   "metadata": {},
   "source": [
    "### 🧩 Gambar 5.2 – Fungsi Penjumlahan 2 Bilangan"
   ]
  },
  {
   "cell_type": "code",
   "execution_count": 2,
   "metadata": {},
   "outputs": [
    {
     "name": "stdout",
     "output_type": "stream",
     "text": [
      "Hasil Penjumlahan = 3\n"
     ]
    }
   ],
   "source": [
    "def jumlah():\n",
    "    \"\"\"Menjumlahkan dua bilangan\"\"\"\n",
    "    a = 1\n",
    "    b = 2\n",
    "    c = a + b\n",
    "    return c\n",
    "\n",
    "tampil = jumlah()\n",
    "print(\"Hasil Penjumlahan =\", tampil)"
   ]
  },
  {
   "cell_type": "markdown",
   "metadata": {},
   "source": [
    "**Analisis:** Fungsi `jumlah()` mengembalikan hasil operasi 1 + 2. Nilai dikembalikan menggunakan `return`. Variabel `tampil` menerima hasil fungsi."
   ]
  },
  {
   "cell_type": "markdown",
   "metadata": {},
   "source": [
    "### 🧩 Gambar 5.3 – Fungsi dengan Parameter"
   ]
  },
  {
   "cell_type": "code",
   "execution_count": 1,
   "metadata": {},
   "outputs": [
    {
     "name": "stdin",
     "output_type": "stream",
     "text": [
      "Masukkan nama Anda:  m. abdu\n",
      "Masukkan kota kelahiran:  tegal\n"
     ]
    },
    {
     "name": "stdout",
     "output_type": "stream",
     "text": [
      "Nama saya: m. abdu\n",
      "Saya lahir di kota: tegal\n"
     ]
    }
   ],
   "source": [
    "def identitas(nama, kota):\n",
    "    \"\"\"Menampilkan identitas\"\"\"\n",
    "    print(\"Nama saya:\", nama)\n",
    "    print(\"Saya lahir di kota:\", kota)\n",
    "\n",
    "n = input(\"Masukkan nama Anda: \")\n",
    "k = input(\"Masukkan kota kelahiran: \")\n",
    "identitas(n, k)"
   ]
  },
  {
   "cell_type": "markdown",
   "metadata": {},
   "source": [
    "**Analisis:** Parameter `nama` dan `kota` diisi dari input pengguna. Program menampilkan hasil sesuai data yang dimasukkan."
   ]
  },
  {
   "cell_type": "markdown",
   "metadata": {},
   "source": [
    "### 🧩 Gambar 5.4 – Fungsi Perkalian Dua Bilangan"
   ]
  },
  {
   "cell_type": "code",
   "execution_count": 4,
   "metadata": {},
   "outputs": [
    {
     "name": "stdin",
     "output_type": "stream",
     "text": [
      "Masukkan bilangan pertama:  10\n",
      "Masukkan bilangan kedua:  11\n"
     ]
    },
    {
     "name": "stdout",
     "output_type": "stream",
     "text": [
      "Hasil perkalian = 110\n"
     ]
    }
   ],
   "source": [
    "def perkalian(bil1, bil2):\n",
    "    \"\"\"Mengalikan dua buah bilangan\"\"\"\n",
    "    hasil = bil1 * bil2\n",
    "    return hasil\n",
    "\n",
    "a = int(input(\"Masukkan bilangan pertama: \"))\n",
    "b = int(input(\"Masukkan bilangan kedua: \"))\n",
    "print(\"Hasil perkalian =\", perkalian(a, b))"
   ]
  },
  {
   "cell_type": "markdown",
   "metadata": {},
   "source": [
    "**Analisis:** Fungsi `perkalian()` menerima dua parameter, mengalikan, dan mengembalikan hasilnya. Output menampilkan hasil perkalian."
   ]
  },
  {
   "cell_type": "markdown",
   "metadata": {},
   "source": [
    "### 🧩 Gambar 5.5 – Fungsi dengan Keyword Argument"
   ]
  },
  {
   "cell_type": "code",
   "execution_count": 5,
   "metadata": {},
   "outputs": [
    {
     "name": "stdout",
     "output_type": "stream",
     "text": [
      "Hasil 1 = 35\n",
      "Hasil 2 = 35\n"
     ]
    }
   ],
   "source": [
    "def perkalian(bil1, bil2):\n",
    "    \"\"\"Mengalikan dua bilangan dengan keyword argument\"\"\"\n",
    "    return bil1 * bil2\n",
    "\n",
    "print(\"Hasil 1 =\", perkalian(5, 7))\n",
    "print(\"Hasil 2 =\", perkalian(bil2=7, bil1=5))"
   ]
  },
  {
   "cell_type": "markdown",
   "metadata": {},
   "source": [
    "**Analisis:** Contoh menunjukkan pemanggilan fungsi dengan positional argument dan keyword argument. Keduanya menghasilkan hasil yang sama."
   ]
  },
  {
   "cell_type": "markdown",
   "metadata": {},
   "source": [
    "### 🧩 Gambar 5.6 – Variabel Lokal"
   ]
  },
  {
   "cell_type": "code",
   "execution_count": null,
   "metadata": {},
   "outputs": [],
   "source": [
    "def lokal():\n",
    "    \"\"\"Contoh variabel lokal\"\"\"\n",
    "    teks = \"Ini variabel lokal\"\n",
    "    print(teks)\n",
    "\n",
    "lokal()"
   ]
  },
  {
   "cell_type": "markdown",
   "metadata": {},
   "source": [
    "**Analisis:** Variabel `teks` hanya dikenali di dalam fungsi. Jika dipanggil di luar fungsi akan menyebabkan error (NameError)."
   ]
  },
  {
   "cell_type": "markdown",
   "metadata": {},
   "source": [
    "### 🧩 Gambar 5.7 – Variabel Lokal dan Global"
   ]
  },
  {
   "cell_type": "code",
   "execution_count": null,
   "metadata": {},
   "outputs": [],
   "source": [
    "teks = \"Ini variabel global\"\n",
    "\n",
    "def tampil():\n",
    "    \"\"\"Menampilkan variabel lokal dan global\"\"\"\n",
    "    teks = \"Ini variabel lokal\"\n",
    "    print(teks)\n",
    "\n",
    "tampil()\n",
    "print(teks)"
   ]
  },
  {
   "cell_type": "markdown",
   "metadata": {},
   "source": [
    "**Analisis:** Fungsi `tampil()` memiliki variabel lokal `teks` yang nilainya berbeda dari variabel global. Hasil output menunjukkan perbedaan ruang lingkup variabel."
   ]
  },
  {
   "cell_type": "markdown",
   "metadata": {},
   "source": [
    "## 4. Kesimpulan\n",
    "\n",
    "Dari percobaan di atas dapat disimpulkan bahwa fungsi pada Python:\n",
    "- Dideklarasikan menggunakan `def`.\n",
    "- Dapat memiliki parameter atau tidak.\n",
    "- Dapat mengembalikan nilai menggunakan `return`.\n",
    "- Variabel lokal hanya berlaku dalam fungsi, sedangkan variabel global berlaku di seluruh program.\n",
    "\n",
    "Penggunaan fungsi membantu membuat program lebih modular dan mudah dikelola."
   ]
  },
  {
   "cell_type": "markdown",
   "metadata": {},
   "source": [
    "## 5. Referensi\n",
    "- Modul Praktikum Dasar Pemrograman dengan Bahasa Python – STMIK GMDP Palembang (2016)\n",
    "- Heny Indriani, Politeknik Purbaya (2022)\n",
    "- Abdul Kadir, *Dasar Pemrograman Python*, Andi Offset, 2005."
   ]
  }
 ],
 "metadata": {
  "kernelspec": {
   "display_name": "Python 3 (ipykernel)",
   "language": "python",
   "name": "python3"
  },
  "language_info": {
   "codemirror_mode": {
    "name": "ipython",
    "version": 3
   },
   "file_extension": ".py",
   "mimetype": "text/x-python",
   "name": "python",
   "nbconvert_exporter": "python",
   "pygments_lexer": "ipython3",
   "version": "3.10.7"
  }
 },
 "nbformat": 4,
 "nbformat_minor": 4
}
